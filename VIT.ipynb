{
 "cells": [
  {
   "cell_type": "markdown",
   "metadata": {},
   "source": [
    "Image Classification using Vision Transformer\n",
    "\n",
    "In this assignment, I trained and evaluated the Vision Transformer on the Horses vs. Camels dataset.\n",
    "\n",
    "The specific steps for this task are:\n",
    "1. Prepare the dataset (choose any split).\n",
    "2. Build the ViT model.\n",
    "3. Train the model. Record how long it takes.\n",
    "4. Evaluate the performance by reporting the confusion matrix.\n",
    "5. Compared to the CNN that you evaluated on the same dataset in ICA02, explain which model performed better.\n",
    "6. Explain how the Vision Transformer outperform state-of-the-art CNNs."
   ]
  },
  {
   "cell_type": "markdown",
   "metadata": {},
   "source": [
    "1) Prepare the dataset\n",
    "\n",
    "Downlaod the dataset from https://www.kaggle.com/datasets/akrsnv/horses-and-camels, save to the same root repro with notebook."
   ]
  },
  {
   "cell_type": "code",
   "execution_count": 55,
   "metadata": {},
   "outputs": [],
   "source": [
    "# import libs\n",
    "import os\n",
    "import numpy as np\n",
    "import tensorflow as tf\n",
    "from tensorflow import keras\n",
    "import tensorflow_addons as tfa\n",
    "import matplotlib.pyplot as plt\n",
    "import time\n",
    "import sklearn\n",
    "from sklearn.metrics import confusion_matrix\n",
    "import itertools"
   ]
  },
  {
   "cell_type": "markdown",
   "metadata": {},
   "source": [
    "Prepare the data"
   ]
  },
  {
   "cell_type": "code",
   "execution_count": 56,
   "metadata": {},
   "outputs": [
    {
     "name": "stdout",
     "output_type": "stream",
     "text": [
      "Found 360 files belonging to 2 classes.\n",
      "Found 40 files belonging to 2 classes.\n",
      "x_train shape: (32, 32, 32, 3) - y_train shape: (32,)\n",
      "x_test shape: (32, 32, 32, 3) - y_test shape: (32,)\n"
     ]
    },
    {
     "name": "stderr",
     "output_type": "stream",
     "text": [
      "2023-04-21 01:14:22.179260: I tensorflow/core/common_runtime/executor.cc:1197] [/device:CPU:0] (DEBUG INFO) Executor start aborting (this does not indicate an error and you can ignore this message): INVALID_ARGUMENT: You must feed a value for placeholder tensor 'Placeholder/_4' with dtype int32 and shape [360]\n",
      "\t [[{{node Placeholder/_4}}]]\n",
      "2023-04-21 01:14:22.179682: I tensorflow/core/common_runtime/executor.cc:1197] [/device:CPU:0] (DEBUG INFO) Executor start aborting (this does not indicate an error and you can ignore this message): INVALID_ARGUMENT: You must feed a value for placeholder tensor 'Placeholder/_0' with dtype string and shape [360]\n",
      "\t [[{{node Placeholder/_0}}]]\n",
      "2023-04-21 01:14:22.269933: I tensorflow/core/common_runtime/executor.cc:1197] [/device:CPU:0] (DEBUG INFO) Executor start aborting (this does not indicate an error and you can ignore this message): INVALID_ARGUMENT: You must feed a value for placeholder tensor 'Placeholder/_4' with dtype int32 and shape [40]\n",
      "\t [[{{node Placeholder/_4}}]]\n",
      "2023-04-21 01:14:22.270193: I tensorflow/core/common_runtime/executor.cc:1197] [/device:CPU:0] (DEBUG INFO) Executor start aborting (this does not indicate an error and you can ignore this message): INVALID_ARGUMENT: You must feed a value for placeholder tensor 'Placeholder/_0' with dtype string and shape [40]\n",
      "\t [[{{node Placeholder/_0}}]]\n"
     ]
    }
   ],
   "source": [
    "#prepare the data\n",
    "local_file = os.path.abspath('./archive.zip')\n",
    "path_to_zip = tf.keras.utils.get_file(local_file,'file://'+local_file)\n",
    "PATH = os.path.join(os.path.dirname(path_to_zip), 'archive')\n",
    "train_dir = os.path.join(PATH, 'train')\n",
    "test_dir = os.path.join(PATH, 'test')\n",
    "\n",
    "num_classes = 2\n",
    "BATCH_SIZE = 32\n",
    "input_shape = (32, 32,3)\n",
    "#creat a train_dataset for training by using the keras.utils.image_dataset_from_directory utility.\n",
    "train_dataset = keras.utils.image_dataset_from_directory(train_dir,\n",
    "                                                            shuffle=True,\n",
    "                                                            batch_size=BATCH_SIZE,\n",
    "                                                            image_size=input_shape[:2])\n",
    "#creat a test_dataset for testing by using the keras.utils.image_dataset_from_directory utility.\n",
    "test_dataset = keras.utils.image_dataset_from_directory(test_dir,\n",
    "                                                                 shuffle=True,\n",
    "                                                                 batch_size=BATCH_SIZE,\n",
    "                                                                 image_size=input_shape[:2])\n",
    "\n",
    "x_train, y_train = next(iter(train_dataset))\n",
    "x_test, y_test = next(iter(test_dataset))\n",
    "\n",
    "print(f\"x_train shape: {x_train.shape} - y_train shape: {y_train.shape}\")\n",
    "print(f\"x_test shape: {x_test.shape} - y_test shape: {y_test.shape}\")"
   ]
  },
  {
   "cell_type": "markdown",
   "metadata": {},
   "source": [
    "Configure the hyperparameters"
   ]
  },
  {
   "cell_type": "code",
   "execution_count": 57,
   "metadata": {},
   "outputs": [],
   "source": [
    "# Configure the hyperparameters\n",
    "learning_rate = 0.001\n",
    "weight_decay = 0.0001\n",
    "batch_size = 256\n",
    "num_epochs = 100\n",
    "image_size = 72  # We'll resize input images to this size\n",
    "patch_size = 6  # Size of the patches to be extract from the input images\n",
    "num_patches = (image_size // patch_size) ** 2\n",
    "projection_dim = 64\n",
    "num_heads = 4\n",
    "transformer_units = [\n",
    "    projection_dim * 2,\n",
    "    projection_dim,\n",
    "]  # Size of the transformer layers\n",
    "transformer_layers = 8\n",
    "mlp_head_units = [2048, 1024]  # Size of the dense layers of the final classifier"
   ]
  },
  {
   "cell_type": "markdown",
   "metadata": {},
   "source": [
    "Use data augmentation"
   ]
  },
  {
   "cell_type": "code",
   "execution_count": 58,
   "metadata": {},
   "outputs": [
    {
     "name": "stdout",
     "output_type": "stream",
     "text": [
      "WARNING:tensorflow:6 out of the last 6 calls to <function PreprocessingLayer.make_adapt_function.<locals>.adapt_step at 0x7fe268620f70> triggered tf.function retracing. Tracing is expensive and the excessive number of tracings could be due to (1) creating @tf.function repeatedly in a loop, (2) passing tensors with different shapes, (3) passing Python objects instead of tensors. For (1), please define your @tf.function outside of the loop. For (2), @tf.function has reduce_retracing=True option that can avoid unnecessary retracing. For (3), please refer to https://www.tensorflow.org/guide/function#controlling_retracing and https://www.tensorflow.org/api_docs/python/tf/function for  more details.\n"
     ]
    }
   ],
   "source": [
    "data_augmentation = keras.Sequential(\n",
    "    [\n",
    "        keras.layers.Normalization(),\n",
    "        keras.layers.Resizing(image_size, image_size),\n",
    "        keras.layers.RandomFlip(\"horizontal\"),\n",
    "        keras.layers.RandomRotation(factor=0.02),\n",
    "        keras.layers.RandomZoom(\n",
    "            height_factor=0.2, width_factor=0.2\n",
    "        ),\n",
    "    ],\n",
    "    name=\"data_augmentation\",\n",
    ")\n",
    "# Compute the mean and the variance of the training data for normalization.\n",
    "data_augmentation.layers[0].adapt(x_train)\n"
   ]
  },
  {
   "cell_type": "markdown",
   "metadata": {},
   "source": [
    "Implement multilayer perceptron (MLP)"
   ]
  },
  {
   "cell_type": "code",
   "execution_count": 59,
   "metadata": {},
   "outputs": [],
   "source": [
    "#Implement multilayer perceptron (MLP)\n",
    "def mlp(x, hidden_units, dropout_rate):\n",
    "    for units in hidden_units:\n",
    "        x = keras.layers.Dense(units, activation=tf.nn.gelu)(x)\n",
    "        x = keras.layers.Dropout(dropout_rate)(x)\n",
    "    return x"
   ]
  },
  {
   "cell_type": "markdown",
   "metadata": {},
   "source": [
    "Implement patch creation as a layer"
   ]
  },
  {
   "cell_type": "code",
   "execution_count": 60,
   "metadata": {},
   "outputs": [],
   "source": [
    "#Implement patch creation as a layer\n",
    "class Patches(keras.layers.Layer):\n",
    "    def __init__(self, patch_size):\n",
    "        super().__init__()\n",
    "        self.patch_size = patch_size\n",
    "\n",
    "    def call(self, images):\n",
    "        batch_size = tf.shape(images)[0]\n",
    "        patches = tf.image.extract_patches(\n",
    "            images=images,\n",
    "            sizes=[1, self.patch_size, self.patch_size, 1],\n",
    "            strides=[1, self.patch_size, self.patch_size, 1],\n",
    "            rates=[1, 1, 1, 1],\n",
    "            padding=\"VALID\",\n",
    "        )\n",
    "        patch_dims = patches.shape[-1]\n",
    "        patches = tf.reshape(patches, [batch_size, -1, patch_dims])\n",
    "        return patches"
   ]
  },
  {
   "cell_type": "markdown",
   "metadata": {},
   "source": [
    "Display patches for a sample image"
   ]
  },
  {
   "cell_type": "code",
   "execution_count": 61,
   "metadata": {},
   "outputs": [
    {
     "name": "stdout",
     "output_type": "stream",
     "text": [
      "Image size: 72 X 72\n",
      "Patch size: 6 X 6\n",
      "Patches per image: 144\n",
      "Elements per patch: 108\n"
     ]
    },
    {
     "data": {
      "image/png": "[encoded data removed]",
      "text/plain": [
       "<Figure size 400x400 with 1 Axes>"
      ]
     },
     "metadata": {},
     "output_type": "display_data"
    },
    {
     "data": {
      "image/png": "[encoded data removed]",
      "text/plain": [
       "<Figure size 400x400 with 144 Axes>"
      ]
     },
     "metadata": {},
     "output_type": "display_data"
    }
   ],
   "source": [
    "# display patches for a sample image\n",
    "plt.figure(figsize=(4, 4))\n",
    "image = x_train[np.random.choice(range(x_train.shape[0]))]\n",
    "plt.imshow(image.numpy().astype(\"uint8\"))\n",
    "plt.axis(\"off\")\n",
    "\n",
    "resized_image = tf.image.resize(\n",
    "    tf.convert_to_tensor([image]), size=(image_size, image_size)\n",
    ")\n",
    "patches = Patches(patch_size)(resized_image)\n",
    "print(f\"Image size: {image_size} X {image_size}\")\n",
    "print(f\"Patch size: {patch_size} X {patch_size}\")\n",
    "print(f\"Patches per image: {patches.shape[1]}\")\n",
    "print(f\"Elements per patch: {patches.shape[-1]}\")\n",
    "\n",
    "n = int(np.sqrt(patches.shape[1]))\n",
    "plt.figure(figsize=(4, 4))\n",
    "for i, patch in enumerate(patches[0]):\n",
    "    ax = plt.subplot(n, n, i + 1)\n",
    "    patch_img = tf.reshape(patch, (patch_size, patch_size, 3))\n",
    "    plt.imshow(patch_img.numpy().astype(\"uint8\"))\n",
    "    plt.axis(\"off\")"
   ]
  },
  {
   "cell_type": "markdown",
   "metadata": {},
   "source": [
    "Implement the patch encoding layer\n",
    "The PatchEncoder layer will linearly transform a patch by projecting it into a vector of size projection_dim. In addition, it adds a learnable position embedding to the projected vector."
   ]
  },
  {
   "cell_type": "code",
   "execution_count": 62,
   "metadata": {},
   "outputs": [],
   "source": [
    "class PatchEncoder(keras.layers.Layer):\n",
    "    def __init__(self, num_patches, projection_dim):\n",
    "        super().__init__()\n",
    "        self.num_patches = num_patches\n",
    "        self.projection = keras.layers.Dense(units=projection_dim)\n",
    "        self.position_embedding = keras.layers.Embedding(\n",
    "            input_dim=num_patches, output_dim=projection_dim\n",
    "        )\n",
    "\n",
    "    def call(self, patch):\n",
    "        positions = tf.range(start=0, limit=self.num_patches, delta=1)\n",
    "        encoded = self.projection(patch) + self.position_embedding(positions)\n",
    "        return encoded"
   ]
  },
  {
   "cell_type": "markdown",
   "metadata": {},
   "source": [
    "2) Build the ViT model\n",
    "\n",
    "The ViT model consists of multiple Transformer blocks, which use the layers.MultiHeadAttention layer as a self-attention mechanism applied to the sequence of patches. The Transformer blocks produce a [batch_size, num_patches, projection_dim] tensor, which is processed via an classifier head with softmax to produce the final class probabilities output."
   ]
  },
  {
   "cell_type": "code",
   "execution_count": 63,
   "metadata": {},
   "outputs": [],
   "source": [
    "def create_vit_classifier():\n",
    "    inputs = keras.layers.Input(shape=input_shape)\n",
    "    # Augment data.\n",
    "    augmented = data_augmentation(inputs)\n",
    "    # Create patches.\n",
    "    patches = Patches(patch_size)(augmented)\n",
    "    # Encode patches.\n",
    "    encoded_patches = PatchEncoder(num_patches, projection_dim)(patches)\n",
    "\n",
    "    # Create multiple layers of the Transformer block.\n",
    "    for _ in range(transformer_layers):\n",
    "        # Layer normalization 1.\n",
    "        x1 = keras.layers.LayerNormalization(epsilon=1e-6)(encoded_patches)\n",
    "        # Create a multi-head attention layer.\n",
    "        attention_output = keras.layers.MultiHeadAttention(\n",
    "            num_heads=num_heads, key_dim=projection_dim, dropout=0.1\n",
    "        )(x1, x1)\n",
    "        # Skip connection 1.\n",
    "        x2 = keras.layers.Add()([attention_output, encoded_patches])\n",
    "        # Layer normalization 2.\n",
    "        x3 = keras.layers.LayerNormalization(epsilon=1e-6)(x2)\n",
    "        # MLP.\n",
    "        x3 = mlp(x3, hidden_units=transformer_units, dropout_rate=0.1)\n",
    "        # Skip connection 2.\n",
    "        encoded_patches = keras.layers.Add()([x3, x2])\n",
    "\n",
    "    # Create a [batch_size, projection_dim] tensor.\n",
    "    representation = keras.layers.LayerNormalization(epsilon=1e-6)(encoded_patches)\n",
    "    representation = keras.layers.Flatten()(representation)\n",
    "    representation = keras.layers.Dropout(0.5)(representation)\n",
    "    # Add MLP.\n",
    "    features = mlp(representation, hidden_units=mlp_head_units, dropout_rate=0.5)\n",
    "    # Classify outputs.\n",
    "    logits = keras.layers.Dense(num_classes)(features)\n",
    "    # Create the Keras model.\n",
    "    model = keras.Model(inputs=inputs, outputs=logits)\n",
    "    return model"
   ]
  },
  {
   "cell_type": "markdown",
   "metadata": {},
   "source": [
    "3) Train the model. Record how long it takes"
   ]
  },
  {
   "cell_type": "code",
   "execution_count": 67,
   "metadata": {},
   "outputs": [
    {
     "name": "stdout",
     "output_type": "stream",
     "text": [
      "the start time of training: 1682057989.21\n",
      "Epoch 1/100\n",
      "1/1 [==============================] - 10s 10s/step - loss: 2.4337 - accuracy: 0.3929 - val_loss: 5.3299 - val_accuracy: 0.2500\n",
      "Epoch 2/100\n",
      "1/1 [==============================] - 1s 1s/step - loss: 3.8575 - accuracy: 0.5357 - val_loss: 7.6543 - val_accuracy: 0.7500\n",
      "Epoch 3/100\n",
      "1/1 [==============================] - 1s 885ms/step - loss: 14.4962 - accuracy: 0.5714 - val_loss: 1.9567 - val_accuracy: 0.5000\n",
      "Epoch 4/100\n",
      "1/1 [==============================] - 1s 846ms/step - loss: 2.9426 - accuracy: 0.5714 - val_loss: 1.5915 - val_accuracy: 0.5000\n",
      "Epoch 5/100\n",
      "1/1 [==============================] - 2s 2s/step - loss: 1.2156 - accuracy: 0.7143 - val_loss: 0.0042 - val_accuracy: 1.0000\n",
      "Epoch 6/100\n",
      "1/1 [==============================] - 1s 893ms/step - loss: 2.4937 - accuracy: 0.6429 - val_loss: 8.0056 - val_accuracy: 0.2500\n",
      "Epoch 7/100\n",
      "1/1 [==============================] - 1s 914ms/step - loss: 4.7522 - accuracy: 0.5357 - val_loss: 8.0532e-04 - val_accuracy: 1.0000\n",
      "Epoch 8/100\n",
      "1/1 [==============================] - 1s 891ms/step - loss: 3.7609 - accuracy: 0.6429 - val_loss: 0.0270 - val_accuracy: 1.0000\n",
      "Epoch 9/100\n",
      "1/1 [==============================] - 1s 893ms/step - loss: 2.9877 - accuracy: 0.6429 - val_loss: 6.6624 - val_accuracy: 0.5000\n",
      "Epoch 10/100\n",
      "1/1 [==============================] - 1s 894ms/step - loss: 4.4726 - accuracy: 0.6429 - val_loss: 1.9901 - val_accuracy: 0.7500\n",
      "Epoch 11/100\n",
      "1/1 [==============================] - 1s 911ms/step - loss: 2.3924 - accuracy: 0.6429 - val_loss: 0.6900 - val_accuracy: 0.7500\n",
      "Epoch 12/100\n",
      "1/1 [==============================] - 1s 925ms/step - loss: 6.0576 - accuracy: 0.5714 - val_loss: 0.0092 - val_accuracy: 1.0000\n",
      "Epoch 13/100\n",
      "1/1 [==============================] - 1s 924ms/step - loss: 1.6954 - accuracy: 0.7500 - val_loss: 7.9874 - val_accuracy: 0.2500\n",
      "Epoch 14/100\n",
      "1/1 [==============================] - 1s 900ms/step - loss: 4.5305 - accuracy: 0.6071 - val_loss: 3.6400 - val_accuracy: 0.5000\n",
      "Epoch 15/100\n",
      "1/1 [==============================] - 1s 953ms/step - loss: 2.1501 - accuracy: 0.7500 - val_loss: 1.1579 - val_accuracy: 0.7500\n",
      "Epoch 16/100\n",
      "1/1 [==============================] - 1s 968ms/step - loss: 2.0146 - accuracy: 0.7857 - val_loss: 0.0083 - val_accuracy: 1.0000\n",
      "Epoch 17/100\n",
      "1/1 [==============================] - 1s 934ms/step - loss: 2.3752 - accuracy: 0.7500 - val_loss: 0.0411 - val_accuracy: 1.0000\n",
      "Epoch 18/100\n",
      "1/1 [==============================] - 1s 920ms/step - loss: 0.3005 - accuracy: 0.8929 - val_loss: 0.4366 - val_accuracy: 0.7500\n",
      "Epoch 19/100\n",
      "1/1 [==============================] - 1s 916ms/step - loss: 1.2094 - accuracy: 0.7857 - val_loss: 0.8615 - val_accuracy: 0.7500\n",
      "Epoch 20/100\n",
      "1/1 [==============================] - 1s 918ms/step - loss: 1.6725 - accuracy: 0.6786 - val_loss: 0.0669 - val_accuracy: 1.0000\n",
      "Epoch 21/100\n",
      "1/1 [==============================] - 1s 914ms/step - loss: 0.7912 - accuracy: 0.8571 - val_loss: 1.3508 - val_accuracy: 0.5000\n",
      "Epoch 22/100\n",
      "1/1 [==============================] - 1s 918ms/step - loss: 1.3217 - accuracy: 0.7857 - val_loss: 0.2069 - val_accuracy: 0.7500\n",
      "Epoch 23/100\n",
      "1/1 [==============================] - 1s 904ms/step - loss: 2.0227 - accuracy: 0.7143 - val_loss: 0.7716 - val_accuracy: 0.7500\n",
      "Epoch 24/100\n",
      "1/1 [==============================] - 1s 925ms/step - loss: 0.1932 - accuracy: 0.8929 - val_loss: 0.3692 - val_accuracy: 0.7500\n",
      "Epoch 25/100\n",
      "1/1 [==============================] - 1s 923ms/step - loss: 0.5462 - accuracy: 0.8571 - val_loss: 0.9834 - val_accuracy: 0.7500\n",
      "Epoch 26/100\n",
      "1/1 [==============================] - 1s 888ms/step - loss: 0.7791 - accuracy: 0.8214 - val_loss: 0.0027 - val_accuracy: 1.0000\n",
      "Epoch 27/100\n",
      "1/1 [==============================] - 1s 939ms/step - loss: 1.3089 - accuracy: 0.7500 - val_loss: 0.1704 - val_accuracy: 1.0000\n",
      "Epoch 28/100\n",
      "1/1 [==============================] - 1s 945ms/step - loss: 1.0678 - accuracy: 0.8929 - val_loss: 2.0736 - val_accuracy: 0.5000\n",
      "Epoch 29/100\n",
      "1/1 [==============================] - 1s 899ms/step - loss: 1.3043 - accuracy: 0.7857 - val_loss: 5.6321 - val_accuracy: 0.5000\n",
      "Epoch 30/100\n",
      "1/1 [==============================] - 1s 926ms/step - loss: 2.6860 - accuracy: 0.8214 - val_loss: 1.4866 - val_accuracy: 0.5000\n",
      "Epoch 31/100\n",
      "1/1 [==============================] - 1s 891ms/step - loss: 1.4114 - accuracy: 0.8214 - val_loss: 0.5524 - val_accuracy: 0.7500\n",
      "Epoch 32/100\n",
      "1/1 [==============================] - 1s 944ms/step - loss: 1.4679 - accuracy: 0.8571 - val_loss: 0.3263 - val_accuracy: 0.7500\n",
      "Epoch 33/100\n",
      "1/1 [==============================] - 1s 930ms/step - loss: 0.2739 - accuracy: 0.9286 - val_loss: 0.4216 - val_accuracy: 0.7500\n",
      "Epoch 34/100\n",
      "1/1 [==============================] - 1s 917ms/step - loss: 0.6678 - accuracy: 0.8214 - val_loss: 1.0874 - val_accuracy: 0.5000\n",
      "Epoch 35/100\n",
      "1/1 [==============================] - 1s 918ms/step - loss: 2.0256 - accuracy: 0.7500 - val_loss: 0.0396 - val_accuracy: 1.0000\n",
      "Epoch 36/100\n",
      "1/1 [==============================] - 1s 923ms/step - loss: 0.7389 - accuracy: 0.8571 - val_loss: 5.6624e-04 - val_accuracy: 1.0000\n",
      "Epoch 37/100\n",
      "1/1 [==============================] - 1s 917ms/step - loss: 1.7258 - accuracy: 0.7143 - val_loss: 0.0075 - val_accuracy: 1.0000\n",
      "Epoch 38/100\n",
      "1/1 [==============================] - 1s 915ms/step - loss: 1.7072 - accuracy: 0.7143 - val_loss: 1.3197 - val_accuracy: 0.5000\n",
      "Epoch 39/100\n",
      "1/1 [==============================] - 1s 910ms/step - loss: 2.4424 - accuracy: 0.7857 - val_loss: 1.5952 - val_accuracy: 0.5000\n",
      "Epoch 40/100\n",
      "1/1 [==============================] - 1s 918ms/step - loss: 2.3314 - accuracy: 0.7143 - val_loss: 0.9977 - val_accuracy: 0.7500\n",
      "Epoch 41/100\n",
      "1/1 [==============================] - 1s 895ms/step - loss: 2.0093 - accuracy: 0.7857 - val_loss: 0.0087 - val_accuracy: 1.0000\n",
      "Epoch 42/100\n",
      "1/1 [==============================] - 1s 910ms/step - loss: 0.9197 - accuracy: 0.8571 - val_loss: 0.0295 - val_accuracy: 1.0000\n",
      "Epoch 43/100\n",
      "1/1 [==============================] - 1s 907ms/step - loss: 0.9681 - accuracy: 0.7500 - val_loss: 0.7605 - val_accuracy: 0.7500\n",
      "Epoch 44/100\n",
      "1/1 [==============================] - 1s 905ms/step - loss: 0.8996 - accuracy: 0.8214 - val_loss: 1.7273 - val_accuracy: 0.5000\n",
      "Epoch 45/100\n",
      "1/1 [==============================] - 1s 889ms/step - loss: 0.8062 - accuracy: 0.8214 - val_loss: 0.0247 - val_accuracy: 1.0000\n",
      "Epoch 46/100\n",
      "1/1 [==============================] - 1s 922ms/step - loss: 0.5132 - accuracy: 0.8214 - val_loss: 5.7244e-05 - val_accuracy: 1.0000\n",
      "Epoch 47/100\n",
      "1/1 [==============================] - 1s 900ms/step - loss: 2.2226 - accuracy: 0.6429 - val_loss: 0.0456 - val_accuracy: 1.0000\n",
      "Epoch 48/100\n",
      "1/1 [==============================] - 1s 891ms/step - loss: 0.5080 - accuracy: 0.9286 - val_loss: 3.0065 - val_accuracy: 0.5000\n",
      "Epoch 49/100\n",
      "1/1 [==============================] - 1s 902ms/step - loss: 2.0498 - accuracy: 0.7500 - val_loss: 1.5177 - val_accuracy: 0.7500\n",
      "Epoch 50/100\n",
      "1/1 [==============================] - 1s 932ms/step - loss: 1.4255 - accuracy: 0.9286 - val_loss: 0.0748 - val_accuracy: 1.0000\n",
      "Epoch 51/100\n",
      "1/1 [==============================] - 1s 902ms/step - loss: 2.0373 - accuracy: 0.8571 - val_loss: 0.0010 - val_accuracy: 1.0000\n",
      "Epoch 52/100\n",
      "1/1 [==============================] - 1s 939ms/step - loss: 1.2691 - accuracy: 0.8929 - val_loss: 0.0057 - val_accuracy: 1.0000\n",
      "Epoch 53/100\n",
      "1/1 [==============================] - 1s 919ms/step - loss: 1.7703 - accuracy: 0.8929 - val_loss: 0.7472 - val_accuracy: 0.7500\n",
      "Epoch 54/100\n",
      "1/1 [==============================] - 1s 894ms/step - loss: 1.1155 - accuracy: 0.7857 - val_loss: 1.9731 - val_accuracy: 0.7500\n",
      "Epoch 55/100\n",
      "1/1 [==============================] - 1s 941ms/step - loss: 1.1679 - accuracy: 0.8929 - val_loss: 1.2387 - val_accuracy: 0.7500\n",
      "Epoch 56/100\n",
      "1/1 [==============================] - 1s 909ms/step - loss: 0.9411 - accuracy: 0.8571 - val_loss: 9.6181e-04 - val_accuracy: 1.0000\n",
      "Epoch 57/100\n",
      "1/1 [==============================] - 1s 894ms/step - loss: 1.2644 - accuracy: 0.8214 - val_loss: 9.4098e-05 - val_accuracy: 1.0000\n",
      "Epoch 58/100\n",
      "1/1 [==============================] - 1s 896ms/step - loss: 0.8861 - accuracy: 0.8929 - val_loss: 4.7385e-06 - val_accuracy: 1.0000\n",
      "Epoch 59/100\n",
      "1/1 [==============================] - 1s 916ms/step - loss: 0.0802 - accuracy: 0.9643 - val_loss: 1.4603e-06 - val_accuracy: 1.0000\n",
      "Epoch 60/100\n",
      "1/1 [==============================] - 1s 900ms/step - loss: 1.5451 - accuracy: 0.9286 - val_loss: 5.9605e-08 - val_accuracy: 1.0000\n",
      "Epoch 61/100\n",
      "1/1 [==============================] - 1s 891ms/step - loss: 0.9099 - accuracy: 0.9286 - val_loss: 0.0000e+00 - val_accuracy: 1.0000\n",
      "Epoch 62/100\n",
      "1/1 [==============================] - 1s 908ms/step - loss: 0.5424 - accuracy: 0.8571 - val_loss: 0.0000e+00 - val_accuracy: 1.0000\n",
      "Epoch 63/100\n",
      "1/1 [==============================] - 1s 911ms/step - loss: 0.3893 - accuracy: 0.9286 - val_loss: 8.9407e-08 - val_accuracy: 1.0000\n",
      "Epoch 64/100\n",
      "1/1 [==============================] - 1s 904ms/step - loss: 0.0686 - accuracy: 0.9286 - val_loss: 1.3947e-05 - val_accuracy: 1.0000\n",
      "Epoch 65/100\n",
      "1/1 [==============================] - 1s 906ms/step - loss: 1.1991 - accuracy: 0.9286 - val_loss: 2.8221e-05 - val_accuracy: 1.0000\n",
      "Epoch 66/100\n",
      "1/1 [==============================] - 1s 917ms/step - loss: 0.1926 - accuracy: 0.9643 - val_loss: 0.0043 - val_accuracy: 1.0000\n",
      "Epoch 67/100\n",
      "1/1 [==============================] - 1s 898ms/step - loss: 0.7431 - accuracy: 0.8929 - val_loss: 0.5324 - val_accuracy: 0.7500\n",
      "Epoch 68/100\n",
      "1/1 [==============================] - 1s 919ms/step - loss: 0.1964 - accuracy: 0.8929 - val_loss: 1.9001 - val_accuracy: 0.7500\n",
      "Epoch 69/100\n",
      "1/1 [==============================] - 1s 921ms/step - loss: 0.7916 - accuracy: 0.8929 - val_loss: 1.4758 - val_accuracy: 0.7500\n",
      "Epoch 70/100\n",
      "1/1 [==============================] - 1s 899ms/step - loss: 0.9607 - accuracy: 0.9286 - val_loss: 0.5343 - val_accuracy: 0.7500\n",
      "Epoch 71/100\n",
      "1/1 [==============================] - 1s 919ms/step - loss: 0.9796 - accuracy: 0.9286 - val_loss: 8.2004e-04 - val_accuracy: 1.0000\n",
      "Epoch 72/100\n",
      "1/1 [==============================] - 1s 913ms/step - loss: 0.1300 - accuracy: 0.9643 - val_loss: 2.9681e-05 - val_accuracy: 1.0000\n",
      "Epoch 73/100\n",
      "1/1 [==============================] - 1s 917ms/step - loss: 0.4187 - accuracy: 0.9286 - val_loss: 2.6524e-06 - val_accuracy: 1.0000\n",
      "Epoch 74/100\n",
      "1/1 [==============================] - 1s 924ms/step - loss: 0.1406 - accuracy: 0.8929 - val_loss: 9.2387e-07 - val_accuracy: 1.0000\n",
      "Epoch 75/100\n",
      "1/1 [==============================] - 1s 921ms/step - loss: 0.9845 - accuracy: 0.7857 - val_loss: 0.0000e+00 - val_accuracy: 1.0000\n",
      "Epoch 76/100\n",
      "1/1 [==============================] - 1s 891ms/step - loss: 0.3503 - accuracy: 0.9643 - val_loss: 5.9605e-08 - val_accuracy: 1.0000\n",
      "Epoch 77/100\n",
      "1/1 [==============================] - 1s 931ms/step - loss: 1.0553 - accuracy: 0.8214 - val_loss: 0.0000e+00 - val_accuracy: 1.0000\n",
      "Epoch 78/100\n",
      "1/1 [==============================] - 1s 941ms/step - loss: 0.3121 - accuracy: 0.9286 - val_loss: 0.2533 - val_accuracy: 0.7500\n",
      "Epoch 79/100\n",
      "1/1 [==============================] - 1s 922ms/step - loss: 0.2552 - accuracy: 0.8929 - val_loss: 3.4290 - val_accuracy: 0.7500\n",
      "Epoch 80/100\n",
      "1/1 [==============================] - 1s 901ms/step - loss: 1.1576 - accuracy: 0.8571 - val_loss: 3.5569 - val_accuracy: 0.7500\n",
      "Epoch 81/100\n",
      "1/1 [==============================] - 1s 921ms/step - loss: 0.7972 - accuracy: 0.8214 - val_loss: 0.4432 - val_accuracy: 0.7500\n",
      "Epoch 82/100\n",
      "1/1 [==============================] - 1s 912ms/step - loss: 0.0193 - accuracy: 1.0000 - val_loss: 5.9605e-08 - val_accuracy: 1.0000\n",
      "Epoch 83/100\n",
      "1/1 [==============================] - 1s 922ms/step - loss: 0.2874 - accuracy: 0.9286 - val_loss: 0.0000e+00 - val_accuracy: 1.0000\n",
      "Epoch 84/100\n",
      "1/1 [==============================] - 1s 917ms/step - loss: 2.0385 - accuracy: 0.8571 - val_loss: 5.9605e-08 - val_accuracy: 1.0000\n",
      "Epoch 85/100\n",
      "1/1 [==============================] - 1s 911ms/step - loss: 0.0242 - accuracy: 1.0000 - val_loss: 0.0059 - val_accuracy: 1.0000\n",
      "Epoch 86/100\n",
      "1/1 [==============================] - 1s 903ms/step - loss: 0.1226 - accuracy: 0.9643 - val_loss: 2.7172 - val_accuracy: 0.7500\n",
      "Epoch 87/100\n",
      "1/1 [==============================] - 1s 938ms/step - loss: 0.3018 - accuracy: 0.9643 - val_loss: 4.0415 - val_accuracy: 0.7500\n",
      "Epoch 88/100\n",
      "1/1 [==============================] - 1s 905ms/step - loss: 0.7594 - accuracy: 0.9286 - val_loss: 2.1332 - val_accuracy: 0.7500\n",
      "Epoch 89/100\n",
      "1/1 [==============================] - 1s 936ms/step - loss: 0.4634 - accuracy: 0.9643 - val_loss: 0.1884 - val_accuracy: 0.7500\n",
      "Epoch 90/100\n",
      "1/1 [==============================] - 1s 926ms/step - loss: 0.3289 - accuracy: 0.9286 - val_loss: 1.3175e-04 - val_accuracy: 1.0000\n",
      "Epoch 91/100\n",
      "1/1 [==============================] - 1s 893ms/step - loss: 0.0078 - accuracy: 1.0000 - val_loss: 1.7881e-07 - val_accuracy: 1.0000\n",
      "Epoch 92/100\n",
      "1/1 [==============================] - 1s 935ms/step - loss: 0.6097 - accuracy: 0.9286 - val_loss: 2.9802e-08 - val_accuracy: 1.0000\n",
      "Epoch 93/100\n",
      "1/1 [==============================] - 1s 928ms/step - loss: 0.4617 - accuracy: 0.9643 - val_loss: 8.9407e-08 - val_accuracy: 1.0000\n",
      "Epoch 94/100\n",
      "1/1 [==============================] - 1s 922ms/step - loss: 0.2313 - accuracy: 0.9286 - val_loss: 5.6922e-06 - val_accuracy: 1.0000\n",
      "Epoch 95/100\n",
      "1/1 [==============================] - 1s 921ms/step - loss: 4.2552e-05 - accuracy: 1.0000 - val_loss: 2.1568e-04 - val_accuracy: 1.0000\n",
      "Epoch 96/100\n",
      "1/1 [==============================] - 1s 920ms/step - loss: 1.3186 - accuracy: 0.9286 - val_loss: 1.8626e-05 - val_accuracy: 1.0000\n",
      "Epoch 97/100\n",
      "1/1 [==============================] - 1s 925ms/step - loss: 0.3442 - accuracy: 0.9643 - val_loss: 3.5763e-07 - val_accuracy: 1.0000\n",
      "Epoch 98/100\n",
      "1/1 [==============================] - 1s 914ms/step - loss: 0.0083 - accuracy: 1.0000 - val_loss: 0.0000e+00 - val_accuracy: 1.0000\n",
      "Epoch 99/100\n",
      "1/1 [==============================] - 1s 963ms/step - loss: 0.1591 - accuracy: 0.9643 - val_loss: 0.0000e+00 - val_accuracy: 1.0000\n",
      "Epoch 100/100\n",
      "1/1 [==============================] - 1s 903ms/step - loss: 0.1288 - accuracy: 0.9286 - val_loss: 0.0000e+00 - val_accuracy: 1.0000\n",
      "1/1 [==============================] - 0s 259ms/step - loss: 1.3285 - accuracy: 0.7812\n",
      "Test accuracy: 78.12%\n",
      "the end time of training: 1682058093.15 \n",
      "The training time taken: 103.94 seconds\n"
     ]
    }
   ],
   "source": [
    "#Compile, train, and evaluate the mode\n",
    "def run_experiment(model):\n",
    "    optimizer = tfa.optimizers.AdamW(\n",
    "        learning_rate=learning_rate, weight_decay=weight_decay\n",
    "    )\n",
    "\n",
    "    model.compile(\n",
    "        optimizer=optimizer,\n",
    "        loss=keras.losses.SparseCategoricalCrossentropy(from_logits=True),\n",
    "        metrics=[\n",
    "            keras.metrics.SparseCategoricalAccuracy(name=\"accuracy\"),\n",
    "        ],\n",
    "    )\n",
    "\n",
    "    checkpoint_filepath = \"/tmp/checkpoint\"\n",
    "    checkpoint_callback = keras.callbacks.ModelCheckpoint(\n",
    "        checkpoint_filepath,\n",
    "        monitor=\"val_accuracy\",\n",
    "        save_best_only=True,\n",
    "        save_weights_only=True,\n",
    "    )\n",
    "\n",
    "    history = model.fit(\n",
    "        x=x_train,\n",
    "        y=y_train,\n",
    "        batch_size=batch_size,\n",
    "        epochs=num_epochs,\n",
    "        validation_split=0.1,\n",
    "        callbacks=[checkpoint_callback],\n",
    "    )\n",
    "\n",
    "    model.load_weights(checkpoint_filepath)\n",
    "    _, accuracy = model.evaluate(x_test, y_test)\n",
    "    print(f\"Test accuracy: {round(accuracy * 100, 2)}%\")\n",
    "\n",
    "    return history\n",
    "\n",
    "# Start the timer\n",
    "start_time = time.time()\n",
    "print(f\"the start time of training: {start_time:.2f}\")\n",
    "\n",
    "vit_classifier = create_vit_classifier()\n",
    "history = run_experiment(vit_classifier)\n",
    "\n",
    "# End the timer and print the time taken\n",
    "end_time = time.time()\n",
    "print(f\"the end time of training: {end_time:.2f} \")\n",
    "print(f\"The training time taken: {end_time - start_time:.2f} seconds\")"
   ]
  },
  {
   "cell_type": "markdown",
   "metadata": {},
   "source": [
    "4) Evaluate the performance by reporting the confusion matrix"
   ]
  },
  {
   "cell_type": "code",
   "execution_count": 65,
   "metadata": {},
   "outputs": [
    {
     "name": "stdout",
     "output_type": "stream",
     "text": [
      "WARNING:tensorflow:5 out of the last 5 calls to <function Model.make_predict_function.<locals>.predict_function at 0x7fe2a4446790> triggered tf.function retracing. Tracing is expensive and the excessive number of tracings could be due to (1) creating @tf.function repeatedly in a loop, (2) passing tensors with different shapes, (3) passing Python objects instead of tensors. For (1), please define your @tf.function outside of the loop. For (2), @tf.function has reduce_retracing=True option that can avoid unnecessary retracing. For (3), please refer to https://www.tensorflow.org/guide/function#controlling_retracing and https://www.tensorflow.org/api_docs/python/tf/function for  more details.\n",
      "1/1 [==============================] - 1s 807ms/step\n",
      "[0 1 0 1 1 0 0 0 0 0 1 0 1 0 1 0 0 1 1 0 1 0 1 0 1 0 1 0 0 1 1 1]\n",
      "[0 1 0 1 1 0 0 0 0 0 1 0 0 0 1 1 0 1 0 1 1 0 0 0 1 1 1 0 0 1 1 0]\n",
      "[[14  4]\n",
      " [ 3 11]]\n"
     ]
    },
    {
     "data": {
      "image/png": "[encoded data removed]",
      "text/plain": [
       "<Figure size 640x480 with 2 Axes>"
      ]
     },
     "metadata": {},
     "output_type": "display_data"
    }
   ],
   "source": [
    "# Make predictions on test set\n",
    "y_pred= vit_classifier.predict(x_test)\n",
    "# Convert predicted values to binary\n",
    "y_pred = np.argmax(y_pred, axis=1)\n",
    "print(y_pred)\n",
    "# Convert y_true tensor to numpy array\n",
    "y_true = y_test.numpy()\n",
    "cm = confusion_matrix(y_true, y_pred,labels=[0,1])\n",
    "print(y_true)\n",
    "# Print confusion matrix\n",
    "print(cm)\n",
    "\n",
    "classes = ['camels','horses']\n",
    "plt.imshow(cm, interpolation='nearest', cmap=plt.cm.Blues)\n",
    "plt.title('comfusion maxtrix')\n",
    "plt.colorbar()\n",
    "tick_marks = np.arange(len(classes))\n",
    "plt.xticks(tick_marks, classes, rotation=45)\n",
    "plt.yticks(tick_marks, classes)\n",
    "\n",
    "thresh = cm.max() / 2.\n",
    "for i, j in itertools.product(range(cm.shape[0]), range(cm.shape[1])):\n",
    "    plt.text(j, i, cm[i, j],\n",
    "    horizontalalignment=\"center\",\n",
    "    color=\"white\" if cm[i, j] > thresh else \"black\")\n",
    "\n",
    "plt.tight_layout()\n",
    "plt.ylabel('True label')\n",
    "plt.xlabel('Predicted label')\n",
    "plt.savefig('./vit_confusion_matrix.jpg')"
   ]
  },
  {
   "cell_type": "markdown",
   "metadata": {},
   "source": [
    "5) Compared to the CNN that you evaluated on the same dataset in ICA02, explain which model performed better.\n",
    "\n",
    "The the model using weight fine-tuning in ICA02 performed better than ViT model on the same dataset. The reason may be due to the dataset only has 2 classes, and the dataset size is not big, only hundrends images. It suggests that the pre-trained weights used for fine-tuning were more appropriate for the this dataset, resulting in better performance. It's possible that the ViT model may perform better on other datasets or under different conditions."
   ]
  },
  {
   "cell_type": "markdown",
   "metadata": {},
   "source": [
    "6) Explain how the Vision Transformer outperform state-of-the-art CNNs\n",
    "\n",
    "The Vision Transformer (ViT) has demonstrated state-of-the-art performance on several computer vision tasks, surpassing the performance of convolutional neural networks (CNNs), which have been the go-to architecture for image classification tasks for several years. Here are some reasons why ViT outperforms CNNs:\n",
    "\n",
    "(1) Attention Mechanism: The key difference between ViT and CNNs is the use of the self-attention mechanism. ViT applies the Transformer's self-attention mechanism to images to extract features and create representations. The attention mechanism allows the model to focus on the most relevant parts of the image, enabling it to capture long-range dependencies and relationships between image elements, resulting in more accurate and robust representations.\n",
    "\n",
    "(2) Better Scalability: CNNs rely on convolutional layers, which are designed to capture local features in images. As a result, they are limited in their ability to scale to larger image sizes, and more layers must be added to capture global features effectively. On the other hand, ViT can process the entire image at once, making it more scalable and easier to extend to larger image sizes.\n",
    "\n",
    "(3) Fewer Parameters: Compared to CNNs, ViT requires fewer parameters, which makes it faster to train and more efficient to use. ViT replaces the convolutional layers with self-attention layers, reducing the number of parameters needed to represent the input. This efficiency is particularly important in applications where computational resources are limited.\n",
    "\n",
    "(4) Pre-training: Pre-training with large amounts of unlabeled data is crucial for the performance of deep neural networks. ViT leverages the large-scale pre-training approach used in language modeling, where the model is first trained on a large corpus of text, and then fine-tuned on a downstream task such as image classification. This pre-training enables the model to learn useful and robust features from large amounts of data, improving its ability to generalize to new tasks and datasets."
   ]
  }
 ],
 "metadata": {
  "kernelspec": {
   "display_name": "Python 3 (ipykernel)",
   "language": "python",
   "name": "python3"
  },
  "language_info": {
   "codemirror_mode": {
    "name": "ipython",
    "version": 3
   },
   "file_extension": ".py",
   "mimetype": "text/x-python",
   "name": "python",
   "nbconvert_exporter": "python",
   "pygments_lexer": "ipython3",
   "version": "3.10.9"
  }
 },
 "nbformat": 4,
 "nbformat_minor": 2
}
